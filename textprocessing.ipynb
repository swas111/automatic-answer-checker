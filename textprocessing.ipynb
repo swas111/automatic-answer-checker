{
 "cells": [
  {
   "cell_type": "code",
   "execution_count": 7,
   "metadata": {},
   "outputs": [
    {
     "name": "stderr",
     "output_type": "stream",
     "text": [
      "c:\\Users\\SWASTIK\\AppData\\Local\\Programs\\Python\\Python310\\lib\\site-packages\\tqdm\\auto.py:22: TqdmWarning: IProgress not found. Please update jupyter and ipywidgets. See https://ipywidgets.readthedocs.io/en/stable/user_install.html\n",
      "  from .autonotebook import tqdm as notebook_tqdm\n"
     ]
    }
   ],
   "source": [
    "import tensorflow as tf\n",
    "import tensorflow_hub as hub\n",
    "import numpy as np\n",
    "import os, sys\n",
    "import pandas as pd \n",
    "from sklearn.metrics.pairwise import cosine_similarity\n",
    "\n",
    "import torch"
   ]
  },
  {
   "cell_type": "code",
   "execution_count": 3,
   "metadata": {},
   "outputs": [
    {
     "name": "stdout",
     "output_type": "stream",
     "text": [
      "CPU times: total: 3.89 s\n",
      "Wall time: 6.47 s\n"
     ]
    },
    {
     "name": "stderr",
     "output_type": "stream",
     "text": [
      "[nltk_data] Downloading package stopwords to\n",
      "[nltk_data]     C:\\Users\\SWASTIK\\AppData\\Roaming\\nltk_data...\n",
      "[nltk_data]   Package stopwords is already up-to-date!\n"
     ]
    }
   ],
   "source": [
    "%%time\n",
    "\n",
    "from nltk.corpus import stopwords \n",
    "from nltk import download \n",
    "from pyemd import emd\n",
    "import gensim\n",
    "from gensim.models import Word2Vec\n",
    "\n",
    "download('stopwords')\n",
    "stop_words = stopwords.words('english')"
   ]
  },
  {
   "cell_type": "code",
   "execution_count": 4,
   "metadata": {},
   "outputs": [],
   "source": [
    "model = gensim.models.KeyedVectors.load_word2vec_format(\"D:\\Aiproject\\Automatic-Answer-checker-\\GoogleNews-vectors-negative300.bin\\GoogleNews-vectors-negative300.bin\", binary=True)  "
   ]
  },
  {
   "cell_type": "code",
   "execution_count": 5,
   "metadata": {},
   "outputs": [
    {
     "name": "stderr",
     "output_type": "stream",
     "text": [
      "C:\\Users\\SWASTIK\\AppData\\Local\\Temp\\ipykernel_17424\\1992334471.py:1: DeprecationWarning: Call to deprecated `init_sims` (Use fill_norms() instead. See https://github.com/RaRe-Technologies/gensim/wiki/Migrating-from-Gensim-3.x-to-4).\n",
      "  model.init_sims(replace=True)\n"
     ]
    }
   ],
   "source": [
    "model.init_sims(replace=True)"
   ]
  },
  {
   "cell_type": "code",
   "execution_count": 8,
   "metadata": {},
   "outputs": [],
   "source": [
    "embed = hub.load(\"https://tfhub.dev/google/universal-sentence-encoder/4\")"
   ]
  },
  {
   "cell_type": "code",
   "execution_count": 9,
   "metadata": {},
   "outputs": [],
   "source": [
    "def cos_sim(input_vectors):\n",
    "    similarity = cosine_similarity(input_vectors)\n",
    "    return similarity\n",
    "negative = [\"not\" , \"without\",\"against\",\"bad\",\"useless\",\"no\",\"dislike\",\"hate\"]\n",
    "\n",
    "def semantic_similarity(actual_answer , given_answer) :\n",
    "    actual = actual_answer.lower().split(\".\")\n",
    "    given = given_answer.lower().split(\".\")\n",
    "    \n",
    "    \n",
    "    \n",
    "    sim_checker = actual \n",
    "    \n",
    "    not_matching_semantics = list()\n",
    "    \n",
    "    semantic_1 = 0   # Actual_answer\n",
    "    semantic_2 = 0   # Given_answee\n",
    "    \n",
    "    actual_embed_list = list()\n",
    "    given_embed_list = list()\n",
    "    \n",
    "    \n",
    "    \n",
    "    for z in range(len(actual)) :\n",
    "        list_actual = list()  \n",
    "        list_actual.append(actual[z])\n",
    "        actual_embed_list.append(embed(list_actual))\n",
    "        #print(actual_embed_list[z].shape)\n",
    "    \n",
    "    for z in range(len(given)) :\n",
    "        \n",
    "        semantic_1 = 0\n",
    "        semantic_2 = 0 \n",
    "        list_given = list()\n",
    "        list_given.append(given[z])\n",
    "        embed_z = embed(list_given)\n",
    "        \n",
    "        \n",
    "        sim_check = sim_checker.copy() \n",
    "        sim_check.append(given[z]) \n",
    "        \n",
    "        sen_em = embed(sim_check)\n",
    "        \n",
    "        similarity_matrix = cos_sim(np.array(sen_em))\n",
    "        \n",
    "        similarity_matrix_df = pd.DataFrame(similarity_matrix) \n",
    "        \n",
    "        cos_list = list(similarity_matrix_df[len(similarity_matrix_df) - 1]) \n",
    "        cos_list = cos_list[:len(cos_list)-1]\n",
    "        #print(cos_list)\n",
    "        \n",
    "        index = cos_list.index(max(cos_list))\n",
    "        \n",
    "        actual_check = actual[index]\n",
    "        actual_check = actual_check.split()\n",
    "        for i in range(len(actual_check) - 1) :\n",
    "            if(actual_check[i] in negative and actual_check[i+1] in negative) :\n",
    "                semantic_1 += 1 \n",
    "            elif(actual_check[i] in negative and actual_check[i+1] not in negative) :\n",
    "                semantic_1 -= 1 \n",
    "                \n",
    "        \n",
    "        \n",
    "\n",
    "\n",
    "        answer_given = given[z].split()\n",
    "        for i in range(len(answer_given) - 1) :\n",
    "            if(answer_given[i] in negative and answer_given[i+1] in negative) :\n",
    "                semantic_2 += 1 \n",
    "            elif(answer_given[i] in negative and answer_given[i+1] not in negative) :\n",
    "                semantic_2 -= 1 \n",
    "\n",
    "                \n",
    "        \n",
    "        if(semantic_1 == 0 and semantic_2 == 0) :\n",
    "            \n",
    "            \"\"\"\n",
    "            Well and good\n",
    "            \"\"\"\n",
    "        elif(semantic_1 < 0  and semantic_2 >= 0) :\n",
    "            not_matching_semantics.append(list([actual[index],given[z]]))\n",
    "            embed_z*=(-1)\n",
    "            \n",
    "        \n",
    "        elif(semantic_1 >= 0 and semantic_2 < 0 ) :\n",
    "            not_matching_semantics.append(list([actual[index],given[z]]))\n",
    "            embed_z*=(-1)\n",
    "            \n",
    "        \n",
    "        \n",
    "        #print(semantic_1,semantic_2,actual[index],given[z])\n",
    "        \n",
    "        \n",
    "        given_embed_list.append(embed_z)\n",
    "        \n",
    "        \n",
    "        \n",
    "    \n",
    "    #print(np.array(actual_embed_list).shape)\n",
    "    actual_embed = actual_embed_list[0] \n",
    "    #print(actual_embed.shape) \n",
    "    \n",
    "    for i in range(len(actual_embed_list)-1) :\n",
    "        #print(actual_embed_list[i+1].shape)\n",
    "        actual_embed += actual_embed_list[i+1]\n",
    "        \n",
    "    given_embed = given_embed_list[0] \n",
    "    for i in range(len(given_embed_list) - 1) :\n",
    "        given_embed += given_embed_list[i+1] \n",
    "        \n",
    "        \n",
    "    \n",
    "            \n",
    "    actual_embed = np.array(actual_embed).reshape(512)\n",
    "    given_embed = np.array(given_embed).reshape(512) \n",
    "    sem_checker = list([actual_embed,given_embed]) \n",
    "    answer = pd.DataFrame(cos_sim(sem_checker))\n",
    "            \n",
    "        \n",
    "    return not_matching_semantics , answer[0][1]"
   ]
  }
 ],
 "metadata": {
  "kernelspec": {
   "display_name": "Python 3.10.7 64-bit",
   "language": "python",
   "name": "python3"
  },
  "language_info": {
   "codemirror_mode": {
    "name": "ipython",
    "version": 3
   },
   "file_extension": ".py",
   "mimetype": "text/x-python",
   "name": "python",
   "nbconvert_exporter": "python",
   "pygments_lexer": "ipython3",
   "version": "3.10.7"
  },
  "orig_nbformat": 4,
  "vscode": {
   "interpreter": {
    "hash": "67e788ba3c26c12234b5d3d2dd36dd6296d16aaa91fe6356ba6c09ca87741b14"
   }
  }
 },
 "nbformat": 4,
 "nbformat_minor": 2
}
